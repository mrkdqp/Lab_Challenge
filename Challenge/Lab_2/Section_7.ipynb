{
 "cells": [
  {
   "cell_type": "markdown",
   "metadata": {},
   "source": [
    "# Section 7"
   ]
  },
  {
   "cell_type": "markdown",
   "metadata": {},
   "source": [
    "## Summary of Line Coding Schemes"
   ]
  },
  {
   "cell_type": "code",
   "execution_count": 2,
   "metadata": {},
   "outputs": [
    {
     "name": "stdout",
     "output_type": "stream",
     "text": [
      "NRZ Bandwidth: 500.0\n",
      "NRZ-L Bandwidth: 500.0\n",
      "NRZ-I Bandwidth: 500.0\n",
      "Biphase Bandwidth: 1000\n",
      "AMI Bandwidth: 500.0\n",
      "2B1Q Bandwidth: 250.0\n",
      "8B6T Bandwidth: 750.0\n",
      "4D-PAM5 Bandwidth: 125.0\n",
      "MLT-3 Bandwidth: 333.3333333333333\n"
     ]
    }
   ],
   "source": [
    "def nrz_bandwidth(N):\n",
    "    return N / 2\n",
    "\n",
    "def nrzl_bandwidth(N):\n",
    "    return N / 2\n",
    "\n",
    "def nrzi_bandwidth(N):\n",
    "    return N / 2\n",
    "\n",
    "def biphase_bandwidth(N):\n",
    "    return N\n",
    "\n",
    "def ami_bandwidth(N):\n",
    "    return N / 2\n",
    "\n",
    "def b2b1q_bandwidth(N):\n",
    "    return N / 4\n",
    "\n",
    "def b8b6t_bandwidth(N):\n",
    "    return (3 * N) / 4\n",
    "\n",
    "def pam5_bandwidth(N):\n",
    "    return N / 8\n",
    "\n",
    "def mlt3_bandwidth(N):\n",
    "    return N / 3\n",
    "\n",
    "N = 1000  \n",
    "\n",
    "print(\"NRZ Bandwidth:\", nrz_bandwidth(N))\n",
    "print(\"NRZ-L Bandwidth:\", nrzl_bandwidth(N))\n",
    "print(\"NRZ-I Bandwidth:\", nrzi_bandwidth(N))\n",
    "print(\"Biphase Bandwidth:\", biphase_bandwidth(N))\n",
    "print(\"AMI Bandwidth:\", ami_bandwidth(N))\n",
    "print(\"2B1Q Bandwidth:\", b2b1q_bandwidth(N))\n",
    "print(\"8B6T Bandwidth:\", b8b6t_bandwidth(N))\n",
    "print(\"4D-PAM5 Bandwidth:\", pam5_bandwidth(N))\n",
    "print(\"MLT-3 Bandwidth:\", mlt3_bandwidth(N))\n"
   ]
  },
  {
   "cell_type": "code",
   "execution_count": 1,
   "metadata": {},
   "outputs": [
    {
     "name": "stdout",
     "output_type": "stream",
     "text": [
      "NRZ Bandwidth: 250.0\n",
      "NRZ-L Bandwidth: 250.0\n",
      "NRZ-I Bandwidth: 250.0\n",
      "Biphase Bandwidth: 500\n",
      "AMI Bandwidth: 250.0\n",
      "2B1Q Bandwidth: 125.0\n",
      "8B6T Bandwidth: 375.0\n",
      "4D-PAM5 Bandwidth: 62.5\n",
      "MLT-3 Bandwidth: 166.66666666666666\n"
     ]
    }
   ],
   "source": [
    "def nrz_bandwidth(N):\n",
    "    return N / 2\n",
    "\n",
    "def nrzl_bandwidth(N):\n",
    "    return N / 2\n",
    "\n",
    "def nrzi_bandwidth(N):\n",
    "    return N / 2\n",
    "\n",
    "def biphase_bandwidth(N):\n",
    "    return N\n",
    "\n",
    "def ami_bandwidth(N):\n",
    "    return N / 2\n",
    "\n",
    "def b2b1q_bandwidth(N):\n",
    "    return N / 4\n",
    "\n",
    "def b8b6t_bandwidth(N):\n",
    "    return (3 * N) / 4\n",
    "\n",
    "def pam5_bandwidth(N):\n",
    "    return N / 8\n",
    "\n",
    "def mlt3_bandwidth(N):\n",
    "    return N / 3\n",
    "\n",
    "N = 500 \n",
    "\n",
    "print(\"NRZ Bandwidth:\", nrz_bandwidth(N))\n",
    "print(\"NRZ-L Bandwidth:\", nrzl_bandwidth(N))\n",
    "print(\"NRZ-I Bandwidth:\", nrzi_bandwidth(N))\n",
    "print(\"Biphase Bandwidth:\", biphase_bandwidth(N))\n",
    "print(\"AMI Bandwidth:\", ami_bandwidth(N))\n",
    "print(\"2B1Q Bandwidth:\", b2b1q_bandwidth(N))\n",
    "print(\"8B6T Bandwidth:\", b8b6t_bandwidth(N))\n",
    "print(\"4D-PAM5 Bandwidth:\", pam5_bandwidth(N))\n",
    "print(\"MLT-3 Bandwidth:\", mlt3_bandwidth(N))\n"
   ]
  },
  {
   "cell_type": "code",
   "execution_count": 2,
   "metadata": {},
   "outputs": [
    {
     "name": "stdout",
     "output_type": "stream",
     "text": [
      "NRZ Bandwidth: 625.0\n",
      "NRZ-L Bandwidth: 625.0\n",
      "NRZ-I Bandwidth: 625.0\n",
      "Biphase Bandwidth: 1250\n",
      "AMI Bandwidth: 625.0\n",
      "2B1Q Bandwidth: 312.5\n",
      "8B6T Bandwidth: 937.5\n",
      "4D-PAM5 Bandwidth: 156.25\n",
      "MLT-3 Bandwidth: 416.6666666666667\n"
     ]
    }
   ],
   "source": [
    "def nrz_bandwidth(N):\n",
    "    return N / 2\n",
    "\n",
    "def nrzl_bandwidth(N):\n",
    "    return N / 2\n",
    "\n",
    "def nrzi_bandwidth(N):\n",
    "    return N / 2\n",
    "\n",
    "def biphase_bandwidth(N):\n",
    "    return N\n",
    "\n",
    "def ami_bandwidth(N):\n",
    "    return N / 2\n",
    "\n",
    "def b2b1q_bandwidth(N):\n",
    "    return N / 4\n",
    "\n",
    "def b8b6t_bandwidth(N):\n",
    "    return (3 * N) / 4\n",
    "\n",
    "def pam5_bandwidth(N):\n",
    "    return N / 8\n",
    "\n",
    "def mlt3_bandwidth(N):\n",
    "    return N / 3\n",
    "\n",
    "N = 1250  \n",
    "\n",
    "print(\"NRZ Bandwidth:\", nrz_bandwidth(N))\n",
    "print(\"NRZ-L Bandwidth:\", nrzl_bandwidth(N))\n",
    "print(\"NRZ-I Bandwidth:\", nrzi_bandwidth(N))\n",
    "print(\"Biphase Bandwidth:\", biphase_bandwidth(N))\n",
    "print(\"AMI Bandwidth:\", ami_bandwidth(N))\n",
    "print(\"2B1Q Bandwidth:\", b2b1q_bandwidth(N))\n",
    "print(\"8B6T Bandwidth:\", b8b6t_bandwidth(N))\n",
    "print(\"4D-PAM5 Bandwidth:\", pam5_bandwidth(N))\n",
    "print(\"MLT-3 Bandwidth:\", mlt3_bandwidth(N))\n"
   ]
  }
 ],
 "metadata": {
  "kernelspec": {
   "display_name": "Python 3",
   "language": "python",
   "name": "python3"
  },
  "language_info": {
   "codemirror_mode": {
    "name": "ipython",
    "version": 3
   },
   "file_extension": ".py",
   "mimetype": "text/x-python",
   "name": "python",
   "nbconvert_exporter": "python",
   "pygments_lexer": "ipython3",
   "version": "3.11.5"
  }
 },
 "nbformat": 4,
 "nbformat_minor": 2
}
